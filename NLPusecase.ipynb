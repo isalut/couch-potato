{
  "cells": [
    {
      "cell_type": "markdown",
      "metadata": {
        "id": "view-in-github",
        "colab_type": "text"
      },
      "source": [
        "<a href=\"https://colab.research.google.com/github/isalut/couch-potato/blob/main/NLPusecase.ipynb\" target=\"_parent\"><img src=\"https://colab.research.google.com/assets/colab-badge.svg\" alt=\"Open In Colab\"/></a>"
      ]
    },
    {
      "cell_type": "code",
      "execution_count": null,
      "id": "4769f8f6",
      "metadata": {
        "id": "4769f8f6"
      },
      "outputs": [],
      "source": [
        "import re\n",
        "import string\n",
        "import nltk\n",
        "from nltk.corpus import stopwords\n",
        "from nltk.tokenize import word_tokenize, sent_tokenize\n",
        "from nltk.stem import PorterStemmer, WordNetLemmatizer"
      ]
    },
    {
      "cell_type": "code",
      "execution_count": null,
      "id": "46b4074a",
      "metadata": {
        "id": "46b4074a",
        "outputId": "fc208b75-579d-4f23-b89d-410032062d75"
      },
      "outputs": [
        {
          "name": "stderr",
          "output_type": "stream",
          "text": [
            "[nltk_data] Downloading package punkt to\n",
            "[nltk_data]     C:\\Users\\DurgaBhavani\\AppData\\Roaming\\nltk_data...\n",
            "[nltk_data]   Package punkt is already up-to-date!\n",
            "[nltk_data] Downloading package stopwords to\n",
            "[nltk_data]     C:\\Users\\DurgaBhavani\\AppData\\Roaming\\nltk_data...\n",
            "[nltk_data]   Unzipping corpora\\stopwords.zip.\n",
            "[nltk_data] Downloading package wordnet to\n",
            "[nltk_data]     C:\\Users\\DurgaBhavani\\AppData\\Roaming\\nltk_data...\n",
            "[nltk_data]   Package wordnet is already up-to-date!\n"
          ]
        },
        {
          "data": {
            "text/plain": [
              "True"
            ]
          },
          "execution_count": 2,
          "metadata": {},
          "output_type": "execute_result"
        }
      ],
      "source": [
        "# Download required NLTK data\n",
        "nltk.download('punkt')\n",
        "nltk.download('stopwords')\n",
        "nltk.download('wordnet')"
      ]
    },
    {
      "cell_type": "code",
      "execution_count": null,
      "id": "74ee3872",
      "metadata": {
        "id": "74ee3872"
      },
      "outputs": [],
      "source": [
        "# Sample TFI news text\n",
        "text = \"\"\"\n",
        "The Telugu Film Industry is buzzing with excitement as superstar Mahesh Babu announced his new movie.\n",
        "The film, directed by SS Rajamouli, is expected to break box office records.\n",
        "For more updates, visit https://www.tfinews.com or contact us at info@tfinews.com.\n",
        "\"\"\""
      ]
    },
    {
      "cell_type": "code",
      "execution_count": null,
      "id": "4fe5848b",
      "metadata": {
        "id": "4fe5848b"
      },
      "outputs": [],
      "source": [
        "# Initialize necessary tools\n",
        "stop_words = set(stopwords.words('english'))\n",
        "stemmer = PorterStemmer()\n",
        "lemmatizer = WordNetLemmatizer()"
      ]
    },
    {
      "cell_type": "code",
      "execution_count": null,
      "id": "30bbd3c0",
      "metadata": {
        "id": "30bbd3c0",
        "outputId": "10eaf2b8-414f-4ec2-9bc7-8ecd4eed5e27"
      },
      "outputs": [
        {
          "name": "stdout",
          "output_type": "stream",
          "text": [
            "Original Text:\n",
            " \n",
            "The Telugu Film Industry is buzzing with excitement as superstar Mahesh Babu announced his new movie. \n",
            "The film, directed by SS Rajamouli, is expected to break box office records. \n",
            "For more updates, visit https://www.tfinews.com or contact us at info@tfinews.com.\n",
            "\n",
            "\n",
            "Lowercased Text:\n",
            " \n",
            "the telugu film industry is buzzing with excitement as superstar mahesh babu announced his new movie. \n",
            "the film, directed by ss rajamouli, is expected to break box office records. \n",
            "for more updates, visit https://www.tfinews.com or contact us at info@tfinews.com.\n",
            "\n",
            "\n",
            "Text without URLs:\n",
            " \n",
            "the telugu film industry is buzzing with excitement as superstar mahesh babu announced his new movie. \n",
            "the film, directed by ss rajamouli, is expected to break box office records. \n",
            "for more updates, visit  or contact us at info@tfinews.com.\n",
            "\n",
            "\n",
            "Text without Email Addresses:\n",
            " \n",
            "the telugu film industry is buzzing with excitement as superstar mahesh babu announced his new movie. \n",
            "the film, directed by ss rajamouli, is expected to break box office records. \n",
            "for more updates, visit  or contact us at \n",
            "\n",
            "Text without Punctuation:\n",
            " \n",
            "the telugu film industry is buzzing with excitement as superstar mahesh babu announced his new movie \n",
            "the film directed by ss rajamouli is expected to break box office records \n",
            "for more updates visit  or contact us at \n",
            "\n",
            "Text without Numbers:\n",
            " \n",
            "the telugu film industry is buzzing with excitement as superstar mahesh babu announced his new movie \n",
            "the film directed by ss rajamouli is expected to break box office records \n",
            "for more updates visit  or contact us at \n",
            "\n",
            "Text without Special Characters:\n",
            " \n",
            "the telugu film industry is buzzing with excitement as superstar mahesh babu announced his new movie \n",
            "the film directed by ss rajamouli is expected to break box office records \n",
            "for more updates visit  or contact us at \n",
            "\n",
            "Tokenized Text:\n",
            " ['the', 'telugu', 'film', 'industry', 'is', 'buzzing', 'with', 'excitement', 'as', 'superstar', 'mahesh', 'babu', 'announced', 'his', 'new', 'movie', 'the', 'film', 'directed', 'by', 'ss', 'rajamouli', 'is', 'expected', 'to', 'break', 'box', 'office', 'records', 'for', 'more', 'updates', 'visit', 'or', 'contact', 'us', 'at']\n",
            "\n",
            "Text without Stop Words:\n",
            " ['telugu', 'film', 'industry', 'buzzing', 'excitement', 'superstar', 'mahesh', 'babu', 'announced', 'new', 'movie', 'film', 'directed', 'ss', 'rajamouli', 'expected', 'break', 'box', 'office', 'records', 'updates', 'visit', 'contact', 'us']\n",
            "\n",
            "Stemmed Tokens:\n",
            " ['telugu', 'film', 'industri', 'buzz', 'excit', 'superstar', 'mahesh', 'babu', 'announc', 'new', 'movi', 'film', 'direct', 'ss', 'rajamouli', 'expect', 'break', 'box', 'offic', 'record', 'updat', 'visit', 'contact', 'us']\n",
            "\n",
            "Lemmatized Tokens:\n",
            " ['telugu', 'film', 'industry', 'buzzing', 'excitement', 'superstar', 'mahesh', 'babu', 'announced', 'new', 'movie', 'film', 'directed', 's', 'rajamouli', 'expected', 'break', 'box', 'office', 'record', 'update', 'visit', 'contact', 'u']\n",
            "\n",
            "Processed Text:\n",
            " telugu film industri buzz excit superstar mahesh babu announc new movi film direct ss rajamouli expect break box offic record updat visit contact us\n"
          ]
        }
      ],
      "source": [
        "def preprocess_text(text):\n",
        "    print(\"Original Text:\\n\", text)\n",
        "\n",
        "    # Convert to lowercase\n",
        "    text = text.lower()\n",
        "    print(\"\\nLowercased Text:\\n\", text)\n",
        "\n",
        "    # Remove URLs\n",
        "    text = re.sub(r'http\\S+|www\\S+|https\\S+', '', text, flags=re.MULTILINE)\n",
        "    print(\"\\nText without URLs:\\n\", text)\n",
        "\n",
        "    # Remove email addresses\n",
        "    text = re.sub(r'\\S*@\\S*\\s?', '', text)\n",
        "    print(\"\\nText without Email Addresses:\\n\", text)\n",
        "\n",
        "    # Remove punctuation\n",
        "    text = text.translate(str.maketrans('', '', string.punctuation))\n",
        "    print(\"\\nText without Punctuation:\\n\", text)\n",
        "\n",
        "    # Remove numbers\n",
        "    text = re.sub(r'\\d+', '', text)\n",
        "    print(\"\\nText without Numbers:\\n\", text)\n",
        "\n",
        "    # Remove special characters\n",
        "    text = re.sub(r'[^A-Za-z\\s]', '', text)\n",
        "    print(\"\\nText without Special Characters:\\n\", text)\n",
        "\n",
        "    # Tokenize into words\n",
        "    tokens = word_tokenize(text)\n",
        "    print(\"\\nTokenized Text:\\n\", tokens)\n",
        "\n",
        "    # Remove stop words\n",
        "    tokens = [word for word in tokens if word not in stop_words]\n",
        "    print(\"\\nText without Stop Words:\\n\", tokens)\n",
        "\n",
        "    # Stemming (or Lemmatization)\n",
        "    stemmed_tokens = [stemmer.stem(word) for word in tokens]\n",
        "    print(\"\\nStemmed Tokens:\\n\", stemmed_tokens)\n",
        "\n",
        "    lemmatized_tokens = [lemmatizer.lemmatize(word) for word in tokens]\n",
        "    print(\"\\nLemmatized Tokens:\\n\", lemmatized_tokens)\n",
        "\n",
        "    # Join tokens back to string\n",
        "    processed_text = ' '.join(stemmed_tokens)\n",
        "    print(\"\\nProcessed Text:\\n\", processed_text)\n",
        "\n",
        "    return processed_text\n",
        "\n",
        "# Preprocess the sample text\n",
        "processed_text = preprocess_text(text)"
      ]
    },
    {
      "cell_type": "code",
      "execution_count": 3,
      "id": "aa0caa0a",
      "metadata": {
        "colab": {
          "base_uri": "https://localhost:8080/"
        },
        "id": "aa0caa0a",
        "outputId": "f5382730-a487-42d0-a8ce-531c9add8317"
      },
      "outputs": [
        {
          "output_type": "stream",
          "name": "stdout",
          "text": [
            " Phone Numbers: ['+91 8096696726', ' 9573471012', '+91 8096696726', ' 9573471012', ' 9172504601']\n",
            "Email Addresses: ['tulasi.doe@example.com', 'bala123@example.net']\n",
            "URLs: ['https://www.example.com', 'http://example.org.']\n",
            "\n",
            "Masked Text:\n",
            " \n",
            "Contact me at [ PHONE NUMBER] or[ PHONE NUMBER].\n",
            "You can also reach me at [EMAIL ADDRESS] or [EMAIL ADDRESS].\n",
            "Check out our website at https://www.example.com for more info.\n",
            "Alternatively, visit http://example.org.\n",
            "My other number is [ PHONE NUMBER] or[ PHONE NUMBER].\n",
            "Another number:[ PHONE NUMBER]04.\n",
            "\n",
            "\n",
            "Sentences: ['\\nContact me at +91 8096696726 or 9573471012.', 'You can also reach me at tulasi.doe@example.com or bala123@example.net.', 'Check out our website at https://www.example.com for more info.', 'Alternatively, visit http://example.org.', 'My other number is +91 8096696726 or 9573471012.', 'Another number: 917250460104.', '']\n"
          ]
        }
      ],
      "source": [
        "import re\n",
        "\n",
        "# Sample text containing  phone numbers, emails, and URLs\n",
        "text = \"\"\"\n",
        "Contact me at +91 8096696726 or 9573471012.\n",
        "You can also reach me at tulasi.doe@example.com or bala123@example.net.\n",
        "Check out our website at https://www.example.com for more info.\n",
        "Alternatively, visit http://example.org.\n",
        "My other number is +91 8096696726 or 9573471012.\n",
        "Another number: 917250460104.\n",
        "\"\"\"\n",
        "\n",
        "# Define regex patterns\n",
        "phone_pattern = re.compile(r'(?:\\+91|91)?[-.\\s]?[6789]\\d{9}')\n",
        "email_pattern = re.compile(r'[a-zA-Z0-9._%+-]+@[a-zA-Z0-9.-]+\\.[a-zA-Z]{2,}')\n",
        "url_pattern = re.compile(r'https?://[^\\s]+')\n",
        "\n",
        "# Extract  phone numbers\n",
        "phone_numbers = phone_pattern.findall(text)\n",
        "print(\" Phone Numbers:\", phone_numbers)\n",
        "\n",
        "# Extract email addresses\n",
        "email_addresses = email_pattern.findall(text)\n",
        "print(\"Email Addresses:\", email_addresses)\n",
        "\n",
        "# Extract URLs\n",
        "urls = url_pattern.findall(text)\n",
        "print(\"URLs:\", urls)\n",
        "\n",
        "# Mask Indian phone numbers\n",
        "masked_text = indian_phone_pattern.sub('[ PHONE NUMBER]', text)\n",
        "\n",
        "# Mask email addresses\n",
        "masked_text = email_pattern.sub('[EMAIL ADDRESS]', masked_text)\n",
        "\n",
        "# Print masked text\n",
        "print(\"\\nMasked Text:\\n\", masked_text)\n",
        "\n",
        "# Split text into sentences\n",
        "sentence_pattern = re.compile(r'(?<!\\w\\.\\w.)(?<![A-Z][a-z]\\.)(?<=\\.|\\?)\\s')\n",
        "sentences = sentence_pattern.split(text)\n",
        "print(\"\\nSentences:\", sentences)\n"
      ]
    }
  ],
  "metadata": {
    "kernelspec": {
      "display_name": "Python 3 (ipykernel)",
      "language": "python",
      "name": "python3"
    },
    "language_info": {
      "codemirror_mode": {
        "name": "ipython",
        "version": 3
      },
      "file_extension": ".py",
      "mimetype": "text/x-python",
      "name": "python",
      "nbconvert_exporter": "python",
      "pygments_lexer": "ipython3",
      "version": "3.9.13"
    },
    "colab": {
      "provenance": [],
      "include_colab_link": true
    }
  },
  "nbformat": 4,
  "nbformat_minor": 5
}