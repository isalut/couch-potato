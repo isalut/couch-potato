{
 "cells": [
  {
   "cell_type": "code",
   "execution_count": 3,
   "id": "000a60ff",
   "metadata": {},
   "outputs": [
    {
     "name": "stdout",
     "output_type": "stream",
     "text": [
      "\n",
      "---------- Word Tokenization ----------\n",
      "['Stemming', 'is', 'funnier', 'than', 'a', 'bummer', 'says', 'the', 'sushi', 'loving', 'computer', 'scientist', '.', 'She', 'really', 'wants', 'to', 'buy', 'cars', '.', 'She', 'told', 'me', 'angrily', '.', 'It', 'is', 'better', 'for', 'you', '.', 'Man', 'is', 'walking', '.', 'We', 'are', 'meeting', 'tomorrow', '.', 'You', 'really', 'do', \"n't\", 'know', '..', '!']\n",
      "\n",
      "---------- Word Lemmatization ----------\n",
      "car\n",
      "walk\n",
      "meeting\n",
      "meet\n",
      "good\n",
      "\n",
      "---------- Converting to Lowercase ----------\n",
      "i am a person. do you know what is time now?\n"
     ]
    },
    {
     "name": "stderr",
     "output_type": "stream",
     "text": [
      "[nltk_data] Downloading package punkt to\n",
      "[nltk_data]     C:\\Users\\jagad\\AppData\\Roaming\\nltk_data...\n",
      "[nltk_data]   Package punkt is already up-to-date!\n",
      "[nltk_data] Downloading package wordnet to\n",
      "[nltk_data]     C:\\Users\\jagad\\AppData\\Roaming\\nltk_data...\n",
      "[nltk_data]   Package wordnet is already up-to-date!\n"
     ]
    }
   ],
   "source": [
    "from nltk.tokenize import word_tokenize\n",
    "from nltk.stem import WordNetLemmatizer\n",
    "import nltk\n",
    "\n",
    "# Ensure required NLTK data is downloaded\n",
    "nltk.download('punkt')\n",
    "nltk.download('wordnet')\n",
    "\n",
    "def wordtokenization():\n",
    "    \"\"\"\n",
    "    Tokenizes the given content into words.\n",
    "    \"\"\"\n",
    "    content = \"\"\"Stemming is funnier than a bummer says the sushi loving computer scientist.\n",
    "    She really wants to buy cars. She told me angrily. It is better for you.\n",
    "    Man is walking. We are meeting tomorrow. You really don't know..!\"\"\"\n",
    "    print(\"\\n---------- Word Tokenization ----------\")\n",
    "    print(word_tokenize(content))\n",
    "\n",
    "def wordlemmatization():\n",
    "    \"\"\"\n",
    "    Performs lemmatization on various words using WordNetLemmatizer.\n",
    "    \"\"\"\n",
    "    wordlemma = WordNetLemmatizer()\n",
    "    print(\"\\n---------- Word Lemmatization ----------\")\n",
    "    print(wordlemma.lemmatize('cars'))  # Default POS is noun\n",
    "    print(wordlemma.lemmatize('walking', pos='v'))  # Verb POS\n",
    "    print(wordlemma.lemmatize('meeting', pos='n'))  # Noun POS\n",
    "    print(wordlemma.lemmatize('meeting', pos='v'))  # Verb POS\n",
    "    print(wordlemma.lemmatize('better', pos='a'))  # Adjective POS\n",
    "\n",
    "def wordlowercase():\n",
    "    \"\"\"\n",
    "    Converts a given text to lowercase.\n",
    "    \"\"\"\n",
    "    text = \"I am a person. Do you know what is time now?\"\n",
    "    print(\"\\n---------- Converting to Lowercase ----------\")\n",
    "    print(text.lower())\n",
    "\n",
    "if __name__ == \"__main__\":\n",
    "    wordtokenization()\n",
    "    wordlemmatization()\n",
    "    wordlowercase()\n"
   ]
  },
  {
   "cell_type": "code",
   "execution_count": null,
   "id": "f885c6f0",
   "metadata": {},
   "outputs": [],
   "source": []
  },
  {
   "cell_type": "code",
   "execution_count": null,
   "id": "299b89dd",
   "metadata": {},
   "outputs": [],
   "source": []
  }
 ],
 "metadata": {
  "kernelspec": {
   "display_name": "Python 3 (ipykernel)",
   "language": "python",
   "name": "python3"
  },
  "language_info": {
   "codemirror_mode": {
    "name": "ipython",
    "version": 3
   },
   "file_extension": ".py",
   "mimetype": "text/x-python",
   "name": "python",
   "nbconvert_exporter": "python",
   "pygments_lexer": "ipython3",
   "version": "3.10.9"
  }
 },
 "nbformat": 4,
 "nbformat_minor": 5
}
